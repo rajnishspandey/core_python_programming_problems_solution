{
 "cells": [
  {
   "cell_type": "code",
   "execution_count": 3,
   "metadata": {},
   "outputs": [
    {
     "name": "stdout",
     "output_type": "stream",
     "text": [
      "sum : (5.5+2j)\n"
     ]
    }
   ],
   "source": [
    "# A Python program to display the sum of two complex numbers\n",
    "c1 = 2.5 + 2.5j\n",
    "c2 = 3.0 - 0.5j\n",
    "c3 = c1 + c2\n",
    "print(f\"sum : {c3}\")"
   ]
  },
  {
   "cell_type": "code",
   "execution_count": 9,
   "metadata": {},
   "outputs": [
    {
     "name": "stdout",
     "output_type": "stream",
     "text": [
      "octal 17 : 15\n",
      "binary 1110010 : 114\n",
      "hexdecimal C2 : 450\n",
      "octal 17 : 15\n",
      "binary 1110010 : 114\n",
      "hexdecimal C2 : 450\n"
     ]
    }
   ],
   "source": [
    "# A program to convert numbers from octal, binary and exadecimal systems into decimal number system - v1\n",
    "n1 = 0o17\n",
    "n2 = 0B1110010\n",
    "n3 = 0X1C2\n",
    "\n",
    "n = int(n1)\n",
    "print(f\"octal 17 : {n}\")\n",
    "n = int(n2)\n",
    "print(f\"binary 1110010 : {n}\")\n",
    "n = int(n3)\n",
    "print(f\"hexdecimal C2 : {n}\")\n",
    "\n",
    "# A program to convert numbers from octal, binary and exadecimal systems into decimal number system - v2\n",
    "s1 = \"17\"\n",
    "s2 = \"1110010\"\n",
    "s3 = \"1C2\"\n",
    "\n",
    "n = int(s1, 8)\n",
    "print(f\"octal 17 : {n}\")\n",
    "n = int(s2, 2)\n",
    "print(f\"binary 1110010 : {n}\")\n",
    "n = int(s3, 16)\n",
    "print(f\"hexdecimal C2 : {n}\")"
   ]
  },
  {
   "cell_type": "code",
   "execution_count": 25,
   "metadata": {},
   "outputs": [
    {
     "name": "stdout",
     "output_type": "stream",
     "text": [
      "bytes :\n",
      "10\n",
      "20\n",
      "0\n",
      "40\n",
      "15\n",
      "\n",
      "\n",
      "bytearry :\n",
      "88\n",
      "99\n",
      "0\n",
      "40\n",
      "15\n"
     ]
    }
   ],
   "source": [
    "# A program to create byte type array, read, and display the elements of the array\n",
    "elements = [10,20,0,40,15]\n",
    "\n",
    "# conver the list into bytes type array\n",
    "print(\"bytes :\")\n",
    "x = bytes(elements)\n",
    "# retreive values from the elemnts using for loop and display\n",
    "for i in x:\n",
    "    print(i, end=\"\\n\")\n",
    "\n",
    "# create bytearray type array\n",
    "print(\"\\n\")\n",
    "print(\"bytearry :\")\n",
    "y = bytearray(elements)\n",
    "y[0]=88\n",
    "y[1]=99\n",
    "\n",
    "for j in y:\n",
    "    print(j, end=\"\\n\")"
   ]
  }
 ],
 "metadata": {
  "kernelspec": {
   "display_name": ".env",
   "language": "python",
   "name": "python3"
  },
  "language_info": {
   "codemirror_mode": {
    "name": "ipython",
    "version": 3
   },
   "file_extension": ".py",
   "mimetype": "text/x-python",
   "name": "python",
   "nbconvert_exporter": "python",
   "pygments_lexer": "ipython3",
   "version": "3.12.4"
  }
 },
 "nbformat": 4,
 "nbformat_minor": 2
}
