{
 "cells": [
  {
   "cell_type": "code",
   "execution_count": 4,
   "metadata": {},
   "outputs": [
    {
     "name": "stdout",
     "output_type": "stream",
     "text": [
      "are of circle : 754.7676350249478\n",
      "are of circle : 754.77\n"
     ]
    }
   ],
   "source": [
    "# program to calculate the area of circle\n",
    "\n",
    "import math\n",
    "\n",
    "r = float(input('enter the radius : '))\n",
    "area = math.pi*r**2\n",
    "\n",
    "print(f'are of circle : {area}')\n",
    "print(f\"are of circle : {round(area,2)}\")"
   ]
  },
  {
   "cell_type": "code",
   "execution_count": null,
   "metadata": {},
   "outputs": [],
   "source": [
    "# python program to display group of message when the condition is true\n",
    "\n"
   ]
  }
 ],
 "metadata": {
  "kernelspec": {
   "display_name": ".env",
   "language": "python",
   "name": "python3"
  },
  "language_info": {
   "codemirror_mode": {
    "name": "ipython",
    "version": 3
   },
   "file_extension": ".py",
   "mimetype": "text/x-python",
   "name": "python",
   "nbconvert_exporter": "python",
   "pygments_lexer": "ipython3",
   "version": "3.12.4"
  }
 },
 "nbformat": 4,
 "nbformat_minor": 2
}
