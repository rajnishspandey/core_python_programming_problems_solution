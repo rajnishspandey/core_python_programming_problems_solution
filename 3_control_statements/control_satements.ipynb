{
 "cells": [
  {
   "cell_type": "code",
   "execution_count": 4,
   "metadata": {},
   "outputs": [
    {
     "name": "stdout",
     "output_type": "stream",
     "text": [
      "are of circle : 754.7676350249478\n",
      "are of circle : 754.77\n"
     ]
    }
   ],
   "source": [
    "# program to calculate the area of circle\n",
    "\n",
    "import math\n",
    "\n",
    "r = float(input('enter the radius : '))\n",
    "area = math.pi*r**2\n",
    "\n",
    "print(f'are of circle : {area}')\n",
    "print(f\"are of circle : {round(area,2)}\")"
   ]
  },
  {
   "cell_type": "code",
   "execution_count": 8,
   "metadata": {},
   "outputs": [
    {
     "name": "stdout",
     "output_type": "stream",
     "text": [
      "True\n",
      "Hello there I am Rajnish Pandey\n"
     ]
    }
   ],
   "source": [
    "# python program to display group of message when the condition is true\n",
    "\n",
    "str = 'yes'\n",
    "\n",
    "if str == 'yes':\n",
    "    print(True)\n",
    "    print('Hello there I am Rajnish Pandey')\n",
    "else:\n",
    "    print(False)"
   ]
  },
  {
   "cell_type": "code",
   "execution_count": 10,
   "metadata": {},
   "outputs": [
    {
     "name": "stdout",
     "output_type": "stream",
     "text": [
      "given number 7 is odd\n"
     ]
    }
   ],
   "source": [
    "# program to check if the given number is even or odd\n",
    "\n",
    "num = int(input('Enter any number : '))\n",
    "if num % 2 == 0:\n",
    "    print(f'given number {num} is even')\n",
    "else:\n",
    "    print(f'given number {num} is odd')"
   ]
  },
  {
   "cell_type": "code",
   "execution_count": null,
   "metadata": {},
   "outputs": [],
   "source": [
    "# program to test if enter number is betwween the range of 1 to 10\n",
    "\n"
   ]
  }
 ],
 "metadata": {
  "kernelspec": {
   "display_name": ".env",
   "language": "python",
   "name": "python3"
  },
  "language_info": {
   "codemirror_mode": {
    "name": "ipython",
    "version": 3
   },
   "file_extension": ".py",
   "mimetype": "text/x-python",
   "name": "python",
   "nbconvert_exporter": "python",
   "pygments_lexer": "ipython3",
   "version": "3.12.4"
  }
 },
 "nbformat": 4,
 "nbformat_minor": 2
}
