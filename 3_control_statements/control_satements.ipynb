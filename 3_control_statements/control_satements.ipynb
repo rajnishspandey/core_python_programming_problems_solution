{
 "cells": [
  {
   "cell_type": "code",
   "execution_count": 4,
   "metadata": {},
   "outputs": [
    {
     "name": "stdout",
     "output_type": "stream",
     "text": [
      "are of circle : 754.7676350249478\n",
      "are of circle : 754.77\n"
     ]
    }
   ],
   "source": [
    "# program to calculate the area of circle\n",
    "\n",
    "import math\n",
    "\n",
    "r = float(input('enter the radius : '))\n",
    "area = math.pi*r**2\n",
    "\n",
    "print(f'are of circle : {area}')\n",
    "print(f\"are of circle : {round(area,2)}\")"
   ]
  },
  {
   "cell_type": "code",
   "execution_count": 8,
   "metadata": {},
   "outputs": [
    {
     "name": "stdout",
     "output_type": "stream",
     "text": [
      "True\n",
      "Hello there I am Rajnish Pandey\n"
     ]
    }
   ],
   "source": [
    "# python program to display group of message when the condition is true\n",
    "\n",
    "str = 'yes'\n",
    "\n",
    "if str == 'yes':\n",
    "    print(True)\n",
    "    print('Hello there I am Rajnish Pandey')\n",
    "else:\n",
    "    print(False)"
   ]
  },
  {
   "cell_type": "code",
   "execution_count": 10,
   "metadata": {},
   "outputs": [
    {
     "name": "stdout",
     "output_type": "stream",
     "text": [
      "given number 7 is odd\n"
     ]
    }
   ],
   "source": [
    "# program to check if the given number is even or odd\n",
    "\n",
    "num = int(input('Enter any number : '))\n",
    "if num % 2 == 0:\n",
    "    print(f'given number {num} is even')\n",
    "else:\n",
    "    print(f'given number {num} is odd')"
   ]
  },
  {
   "cell_type": "code",
   "execution_count": 15,
   "metadata": {},
   "outputs": [
    {
     "name": "stdout",
     "output_type": "stream",
     "text": [
      "entered numbers are between the range True\n"
     ]
    }
   ],
   "source": [
    "# program to test if enter number is betwween the range of 1 to 10 - check using if else only\n",
    "x = int(input('Enter a number'))\n",
    "\n",
    "if x >= 1 and x <=10:\n",
    "    print('entered numbers are between the range', True)\n",
    "else:\n",
    "    print('Enter numbers are not in given range', False)\n"
   ]
  },
  {
   "cell_type": "code",
   "execution_count": 20,
   "metadata": {},
   "outputs": [
    {
     "name": "stdout",
     "output_type": "stream",
     "text": [
      "1\n",
      "2\n",
      "3\n",
      "4\n",
      "5\n",
      "6\n",
      "7\n",
      "8\n",
      "9\n",
      "10\n",
      "End\n"
     ]
    }
   ],
   "source": [
    "# program to display numbers between 1 to 10 using while loop\n",
    "x = 1\n",
    "while x <= 10:\n",
    "    print(x)\n",
    "    x += 1\n",
    "print('End')"
   ]
  },
  {
   "cell_type": "code",
   "execution_count": 22,
   "metadata": {},
   "outputs": [
    {
     "name": "stdout",
     "output_type": "stream",
     "text": [
      "100\n",
      "102\n",
      "104\n",
      "106\n",
      "108\n",
      "110\n",
      "112\n",
      "114\n",
      "116\n",
      "118\n",
      "120\n",
      "122\n",
      "124\n",
      "126\n",
      "128\n",
      "130\n",
      "132\n",
      "134\n",
      "136\n",
      "138\n",
      "140\n",
      "142\n",
      "144\n",
      "146\n",
      "148\n",
      "150\n",
      "152\n",
      "154\n",
      "156\n",
      "158\n",
      "160\n",
      "162\n",
      "164\n",
      "166\n",
      "168\n",
      "170\n",
      "172\n",
      "174\n",
      "176\n",
      "178\n",
      "180\n",
      "182\n",
      "184\n",
      "186\n",
      "188\n",
      "190\n",
      "192\n",
      "194\n",
      "196\n",
      "198\n",
      "200\n",
      "end\n"
     ]
    }
   ],
   "source": [
    "# program to display even numbers between 100 and 200 using while loop\n",
    "number = 100\n",
    "while number <= 200:\n",
    "    if number % 2 == 0:\n",
    "        print(number)\n",
    "    number += 1\n",
    "print('end')\n"
   ]
  },
  {
   "cell_type": "code",
   "execution_count": 23,
   "metadata": {},
   "outputs": [
    {
     "name": "stdout",
     "output_type": "stream",
     "text": [
      "total number of even numbers are : 52\n"
     ]
    }
   ],
   "source": [
    "# count the even numbers between 100 to 200 using while loop\n",
    "number = 100\n",
    "counter = 1\n",
    "while number <= 200:\n",
    "    if number % 2 == 0:\n",
    "        counter += 1\n",
    "    number += 1\n",
    "print(f'total number of even numbers are : {counter}')    \n"
   ]
  },
  {
   "cell_type": "code",
   "execution_count": 27,
   "metadata": {},
   "outputs": [
    {
     "name": "stdout",
     "output_type": "stream",
     "text": [
      "10\n",
      "11\n"
     ]
    }
   ],
   "source": [
    "x = '10,11'\n",
    "m,n = x.split(',')\n",
    "print(int(m))\n",
    "print(int(n))\n"
   ]
  },
  {
   "cell_type": "code",
   "execution_count": 28,
   "metadata": {},
   "outputs": [
    {
     "name": "stdout",
     "output_type": "stream",
     "text": [
      "R\n",
      "a\n",
      "j\n",
      "n\n",
      "i\n",
      "s\n",
      "h\n"
     ]
    }
   ],
   "source": [
    "# program to dispaly each character of a string\n",
    "\n",
    "string = 'Rajnish'\n",
    "\n",
    "for s in string:\n",
    "    print(s)"
   ]
  },
  {
   "cell_type": "code",
   "execution_count": 29,
   "metadata": {},
   "outputs": [
    {
     "name": "stdout",
     "output_type": "stream",
     "text": [
      "R\n",
      "a\n",
      "j\n",
      "n\n",
      "i\n",
      "s\n",
      "h\n"
     ]
    }
   ],
   "source": [
    "# display each character of the string using index slice\n",
    "\n",
    "string = 'Rajnish'\n",
    "for i in range(len(string)):\n",
    "    print(string[i])"
   ]
  },
  {
   "cell_type": "code",
   "execution_count": 30,
   "metadata": {},
   "outputs": [
    {
     "name": "stdout",
     "output_type": "stream",
     "text": [
      "1\n",
      "3\n",
      "5\n",
      "7\n",
      "9\n"
     ]
    }
   ],
   "source": [
    "# display odd number from 1 to 10 usig range\n",
    "\n",
    "for i in range(1,10,2):\n",
    "    print(i)"
   ]
  },
  {
   "cell_type": "code",
   "execution_count": 44,
   "metadata": {},
   "outputs": [
    {
     "name": "stdout",
     "output_type": "stream",
     "text": [
      "10\n",
      "9\n",
      "8\n",
      "7\n",
      "6\n",
      "5\n",
      "4\n",
      "3\n",
      "2\n",
      "1\n"
     ]
    }
   ],
   "source": [
    "# display numbers from 10 to 1\n",
    "\n",
    "for i in range(10,0,-1):\n",
    "    print(i)"
   ]
  },
  {
   "cell_type": "code",
   "execution_count": 45,
   "metadata": {},
   "outputs": [
    {
     "name": "stdout",
     "output_type": "stream",
     "text": [
      "10\n",
      "20\n",
      "5\n",
      "A\n",
      "America\n"
     ]
    }
   ],
   "source": [
    "# program to diplay the elements of the list\n",
    "\n",
    "list = [10,20,5,'A','America']\n",
    "\n",
    "for elements in list:\n",
    "    print(elements)"
   ]
  },
  {
   "cell_type": "code",
   "execution_count": 60,
   "metadata": {},
   "outputs": [
    {
     "name": "stdout",
     "output_type": "stream",
     "text": [
      "35\n"
     ]
    }
   ],
   "source": [
    "# program to find and display the sum of list of numbers using for loop\n",
    "\n",
    "list = [10,20,5]\n",
    "\n",
    "# print(sum(list))\n",
    "total = 0\n",
    "for elements in list:\n",
    "    total = total + elements\n",
    "print(total)\n"
   ]
  },
  {
   "cell_type": "code",
   "execution_count": 61,
   "metadata": {},
   "outputs": [
    {
     "name": "stdout",
     "output_type": "stream",
     "text": [
      "35\n"
     ]
    }
   ],
   "source": [
    "# program to find and display the sum of list of numbers using while loop\n",
    "\n",
    "list = [10,20,5]\n",
    "total = 0\n",
    "i = 0\n",
    "while i<len(list):\n",
    "    total = total + list[i]\n",
    "    i += 1\n",
    "print(total)"
   ]
  },
  {
   "cell_type": "code",
   "execution_count": 77,
   "metadata": {},
   "outputs": [
    {
     "name": "stdout",
     "output_type": "stream",
     "text": [
      "*  \n",
      "*  *  \n",
      "*  *  *  \n",
      "*  *  *  *  \n",
      "*  *  *  *  *  \n",
      "*  *  *  *  *  *  \n",
      "*  *  *  *  *  *  *  \n",
      "*  *  *  *  *  *  *  *  \n",
      "*  *  *  *  *  *  *  *  *  \n",
      "*  *  *  *  *  *  *  *  *  *  \n"
     ]
    }
   ],
   "source": [
    "# program to display stars in right angled triangular form using nested toops.capitalize\n",
    "# 10 rows os stars\n",
    "\n",
    "for i in range(1,11):\n",
    "    for j in range(1, 1+i):\n",
    "        print('* ', end=' ')\n",
    "    print()"
   ]
  },
  {
   "cell_type": "code",
   "execution_count": 89,
   "metadata": {},
   "outputs": [
    {
     "name": "stdout",
     "output_type": "stream",
     "text": [
      "                                        * \n",
      "                                       * * \n",
      "                                      * * * \n",
      "                                     * * * * \n",
      "                                    * * * * * \n",
      "                                   * * * * * * \n",
      "                                  * * * * * * * \n",
      "                                 * * * * * * * * \n",
      "                                * * * * * * * * * \n"
     ]
    }
   ],
   "source": [
    "# program to display equilateral triangle using for loop\n",
    "\n",
    "n = 40\n",
    "for i in range(1,10):\n",
    "    print(' '*n, end='')\n",
    "    print('* '*(i))\n",
    "    n -= 1"
   ]
  },
  {
   "cell_type": "code",
   "execution_count": null,
   "metadata": {},
   "outputs": [],
   "source": []
  }
 ],
 "metadata": {
  "kernelspec": {
   "display_name": ".env",
   "language": "python",
   "name": "python3"
  },
  "language_info": {
   "codemirror_mode": {
    "name": "ipython",
    "version": 3
   },
   "file_extension": ".py",
   "mimetype": "text/x-python",
   "name": "python",
   "nbconvert_exporter": "python",
   "pygments_lexer": "ipython3",
   "version": "3.12.4"
  }
 },
 "nbformat": 4,
 "nbformat_minor": 2
}
