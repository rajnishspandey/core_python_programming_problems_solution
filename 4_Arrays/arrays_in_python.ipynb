{
 "cells": [
  {
   "cell_type": "code",
   "execution_count": 9,
   "metadata": {},
   "outputs": [
    {
     "name": "stdout",
     "output_type": "stream",
     "text": [
      "1\n",
      "2\n",
      "3\n",
      "4\n",
      "5\n"
     ]
    }
   ],
   "source": [
    "# python program to create an integer type array\n",
    "\n",
    "import array as arr\n",
    "\n",
    "a = arr.array('i',[1,2,3,4,5])\n",
    "for i in a:\n",
    "    print(i)"
   ]
  },
  {
   "cell_type": "code",
   "execution_count": 18,
   "metadata": {},
   "outputs": [
    {
     "name": "stdout",
     "output_type": "stream",
     "text": [
      "a\n",
      "b\n",
      "c\n"
     ]
    }
   ],
   "source": [
    "# import array as arr\n",
    "from array import *\n",
    "\n",
    "a = array('w',['a','b','c'])\n",
    "\n",
    "for i in a:\n",
    "    print(i)"
   ]
  },
  {
   "cell_type": "code",
   "execution_count": 20,
   "metadata": {},
   "outputs": [
    {
     "name": "stdout",
     "output_type": "stream",
     "text": [
      "1 2 3 4 50 "
     ]
    }
   ],
   "source": [
    "import array as arr\n",
    "\n",
    "a = arr.array('i',[1,2,3,4,50])\n",
    "\n",
    "for i in range(len(a)):\n",
    "    print(a[i], end=' ')"
   ]
  },
  {
   "cell_type": "code",
   "execution_count": 31,
   "metadata": {},
   "outputs": [
    {
     "name": "stdout",
     "output_type": "stream",
     "text": [
      "1 2 3 4 50 "
     ]
    }
   ],
   "source": [
    "# retreive the elements of an array using while loop\n",
    "import array as arr\n",
    "\n",
    "a = arr.array('i',[1,2,3,4,50])\n",
    "\n",
    "i = 0\n",
    "\n",
    "while i < len(a):\n",
    "    print(a[i], end=' ')\n",
    "    i += 1"
   ]
  },
  {
   "cell_type": "code",
   "execution_count": 42,
   "metadata": {},
   "outputs": [
    {
     "name": "stdout",
     "output_type": "stream",
     "text": [
      "array('i', [20, 30, 40])\n",
      "array('i', [20, 30, 40])\n",
      "array('i', [10, 20, 30, 40, 50])\n",
      "array('i', [10, 20, 30, 40])\n",
      "array('i', [10, 30, 50])\n",
      "hsinjaR\n"
     ]
    }
   ],
   "source": [
    "# slicing operations using array\n",
    "\n",
    "import array as arr\n",
    "\n",
    "x = arr.array('i',[10,20,30,40,50])\n",
    "# get elements from 1st to 3rd from x\n",
    "y = x[1:4]\n",
    "print(y)\n",
    "\n",
    "y = x[-4:-1]\n",
    "print(y)\n",
    "\n",
    "\n",
    "# get elements from 0th till the last\n",
    "y = x[0:]\n",
    "print(y)\n",
    "\n",
    "# get elemts from 0th till 4rd element\n",
    "y = x[:4]\n",
    "print(y)\n",
    "\n",
    "# get elements with 2 stride\n",
    "y = x[0::2]\n",
    "print(y)\n",
    "\n",
    "# reverse string\n",
    "string = 'Rajnish'\n",
    "reverse = string[len(string)::-1]\n",
    "print(reverse)\n",
    "\n"
   ]
  },
  {
   "cell_type": "code",
   "execution_count": 43,
   "metadata": {},
   "outputs": [
    {
     "name": "stdout",
     "output_type": "stream",
     "text": [
      "30\n",
      "40\n"
     ]
    }
   ],
   "source": [
    "# print range of elements from array\n",
    "import array\n",
    "x = array.array('i',[10,20,30,40,50,60])\n",
    "\n",
    "for i in x[2:4]:\n",
    "    print(i)"
   ]
  },
  {
   "cell_type": "code",
   "execution_count": 63,
   "metadata": {},
   "outputs": [
    {
     "name": "stdout",
     "output_type": "stream",
     "text": [
      "array('i', [10, 20, 30, 40, 50])\n",
      "array('i', [10, 20, 30, 40, 50, 30])\n",
      "array('i', [10, 60, 20, 30, 40, 50, 30])\n",
      "array('i', [10, 60, 30, 40, 50, 30])\n",
      "30\n",
      "array('i', [10, 60, 30, 40, 50])\n",
      "2\n",
      "[10, 60, 30, 40, 50]\n",
      "<class 'list'>\n"
     ]
    }
   ],
   "source": [
    "# operations on array\n",
    "import array\n",
    "\n",
    "x = array.array('i',[10,20,30,40,50])\n",
    "print(x)\n",
    "\n",
    "# append 30 to array\n",
    "x.append(30)\n",
    "print(x)\n",
    "\n",
    "# insert 60 at position 1\n",
    "x.insert(1,60)\n",
    "print(x)\n",
    "\n",
    "# remove 20 from array\n",
    "x.remove(20)\n",
    "print(x)\n",
    "\n",
    "# remove last elemet from the array using pop()\n",
    "pop_ = x.pop()\n",
    "print(pop_)\n",
    "print(x)\n",
    "\n",
    "# find the index of the element using index()\n",
    "index_ = x.index(30)\n",
    "print(index_)\n",
    "\n",
    "# convert array into list\n",
    "y = x.tolist()\n",
    "print(y)\n",
    "print(type(y))\n"
   ]
  },
  {
   "cell_type": "code",
   "execution_count": 1,
   "metadata": {},
   "outputs": [
    {
     "name": "stdout",
     "output_type": "stream",
     "text": [
      "['30', '50', '60']\n",
      "[30, 50, 60]\n",
      "Total marks obtained : 140\n",
      "percentag : 46.666666666666664\n"
     ]
    }
   ],
   "source": [
    "# store student marks into array and finding total marks\n",
    "\n",
    "str = input('Enter the marks').split(' ')\n",
    "print(str)\n",
    "\n",
    "marks  = [int(num) for num in str]\n",
    "print(marks)\n",
    "\n",
    "# total = sum(marks)\n",
    "# print(total)\n",
    "# or\n",
    "total = 0\n",
    "for mark in marks:\n",
    "    total = total + mark\n",
    "print('Total marks obtained :',total)\n",
    "\n",
    "\n",
    "# %\n",
    "n = len(marks)\n",
    "print('percentag :',total/n)"
   ]
  },
  {
   "cell_type": "code",
   "execution_count": 5,
   "metadata": {},
   "outputs": [
    {
     "name": "stdout",
     "output_type": "stream",
     "text": [
      "How many elements ? \n",
      "Enter the elements \n",
      "Enter the elements \n",
      "Enter the elements \n",
      "original array :  array('i', [50, 4, 55])\n",
      "sorted array :  array('i', [4, 50, 55])\n"
     ]
    }
   ],
   "source": [
    "# sorting an array using  bubble sort technique\n",
    "# 1 .  Create an empty array to store integers\n",
    "\n",
    "import array\n",
    "\n",
    "x = array.array('i', [])\n",
    "\n",
    "# store the elements into the array \n",
    "print('How many elements ? ', end='\\n')\n",
    "n = int(input())\n",
    "\n",
    "for i in range(n):\n",
    "    print('Enter the elements ', end='\\n')\n",
    "    x.append(int(input()))\n",
    "\n",
    "print('original array : ', x)\n",
    "\n",
    "# bubble sort\n",
    "flag = False\n",
    "for i in range(n-1):\n",
    "    for j in range(n-1-i):\n",
    "        if x[j] > x[j+1]:\n",
    "            t = x[j]\n",
    "            x[j] = x[j+1]\n",
    "            x[j+1] = t\n",
    "            flag = True\n",
    "    if flag == False:\n",
    "        break\n",
    "    else:\n",
    "        flag = False\n",
    "\n",
    "print('sorted array : ', x)"
   ]
  },
  {
   "cell_type": "code",
   "execution_count": null,
   "metadata": {},
   "outputs": [],
   "source": [
    "# search for the position of an array element using sequential search"
   ]
  }
 ],
 "metadata": {
  "kernelspec": {
   "display_name": ".venv",
   "language": "python",
   "name": "python3"
  },
  "language_info": {
   "codemirror_mode": {
    "name": "ipython",
    "version": 3
   },
   "file_extension": ".py",
   "mimetype": "text/x-python",
   "name": "python",
   "nbconvert_exporter": "python",
   "pygments_lexer": "ipython3",
   "version": "3.13.0"
  }
 },
 "nbformat": 4,
 "nbformat_minor": 2
}
