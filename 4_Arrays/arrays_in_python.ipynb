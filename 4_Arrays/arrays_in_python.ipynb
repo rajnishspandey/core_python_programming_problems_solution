{
 "cells": [
  {
   "cell_type": "code",
   "execution_count": 9,
   "metadata": {},
   "outputs": [
    {
     "name": "stdout",
     "output_type": "stream",
     "text": [
      "1\n",
      "2\n",
      "3\n",
      "4\n",
      "5\n"
     ]
    }
   ],
   "source": [
    "# python program to create an integer type array\n",
    "\n",
    "import array as arr\n",
    "\n",
    "a = arr.array('i',[1,2,3,4,5])\n",
    "for i in a:\n",
    "    print(i)"
   ]
  },
  {
   "cell_type": "code",
   "execution_count": 18,
   "metadata": {},
   "outputs": [
    {
     "name": "stdout",
     "output_type": "stream",
     "text": [
      "a\n",
      "b\n",
      "c\n"
     ]
    }
   ],
   "source": [
    "# import array as arr\n",
    "from array import *\n",
    "\n",
    "a = array('w',['a','b','c'])\n",
    "\n",
    "for i in a:\n",
    "    print(i)"
   ]
  },
  {
   "cell_type": "code",
   "execution_count": 20,
   "metadata": {},
   "outputs": [
    {
     "name": "stdout",
     "output_type": "stream",
     "text": [
      "1 2 3 4 50 "
     ]
    }
   ],
   "source": [
    "import array as arr\n",
    "\n",
    "a = arr.array('i',[1,2,3,4,50])\n",
    "\n",
    "for i in range(len(a)):\n",
    "    print(a[i], end=' ')"
   ]
  },
  {
   "cell_type": "code",
   "execution_count": 31,
   "metadata": {},
   "outputs": [
    {
     "name": "stdout",
     "output_type": "stream",
     "text": [
      "1 2 3 4 50 "
     ]
    }
   ],
   "source": [
    "# retreive the elements of an array using while loop\n",
    "import array as arr\n",
    "\n",
    "a = arr.array('i',[1,2,3,4,50])\n",
    "\n",
    "i = 0\n",
    "\n",
    "while i < len(a):\n",
    "    print(a[i], end=' ')\n",
    "    i += 1"
   ]
  },
  {
   "cell_type": "code",
   "execution_count": 42,
   "metadata": {},
   "outputs": [
    {
     "name": "stdout",
     "output_type": "stream",
     "text": [
      "array('i', [20, 30, 40])\n",
      "array('i', [20, 30, 40])\n",
      "array('i', [10, 20, 30, 40, 50])\n",
      "array('i', [10, 20, 30, 40])\n",
      "array('i', [10, 30, 50])\n",
      "hsinjaR\n"
     ]
    }
   ],
   "source": [
    "# slicing operations using array\n",
    "\n",
    "import array as arr\n",
    "\n",
    "x = arr.array('i',[10,20,30,40,50])\n",
    "# get elements from 1st to 3rd from x\n",
    "y = x[1:4]\n",
    "print(y)\n",
    "\n",
    "y = x[-4:-1]\n",
    "print(y)\n",
    "\n",
    "\n",
    "# get elements from 0th till the last\n",
    "y = x[0:]\n",
    "print(y)\n",
    "\n",
    "# get elemts from 0th till 4rd element\n",
    "y = x[:4]\n",
    "print(y)\n",
    "\n",
    "# get elements with 2 stride\n",
    "y = x[0::2]\n",
    "print(y)\n",
    "\n",
    "# reverse string\n",
    "string = 'Rajnish'\n",
    "reverse = string[len(string)::-1]\n",
    "print(reverse)\n",
    "\n"
   ]
  },
  {
   "cell_type": "code",
   "execution_count": 43,
   "metadata": {},
   "outputs": [
    {
     "name": "stdout",
     "output_type": "stream",
     "text": [
      "30\n",
      "40\n"
     ]
    }
   ],
   "source": [
    "# print range of elements from array\n",
    "import array\n",
    "x = array.array('i',[10,20,30,40,50,60])\n",
    "\n",
    "for i in x[2:4]:\n",
    "    print(i)"
   ]
  },
  {
   "cell_type": "code",
   "execution_count": null,
   "metadata": {},
   "outputs": [],
   "source": [
    "# operations on array\n",
    "import array\n",
    "\n",
    "x = array.array('i',[10,20,30,40,50])\n"
   ]
  }
 ],
 "metadata": {
  "kernelspec": {
   "display_name": ".venv",
   "language": "python",
   "name": "python3"
  },
  "language_info": {
   "codemirror_mode": {
    "name": "ipython",
    "version": 3
   },
   "file_extension": ".py",
   "mimetype": "text/x-python",
   "name": "python",
   "nbconvert_exporter": "python",
   "pygments_lexer": "ipython3",
   "version": "3.13.0"
  }
 },
 "nbformat": 4,
 "nbformat_minor": 2
}
